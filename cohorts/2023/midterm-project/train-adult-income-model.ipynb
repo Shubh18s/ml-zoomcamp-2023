{
 "cells": [
  {
   "cell_type": "code",
   "execution_count": 1,
   "metadata": {},
   "outputs": [],
   "source": [
    "import numpy as np\n",
    "import pandas as pd\n",
    "import matplotlib.pyplot as plt\n",
    "%matplotlib inline\n",
    "import seaborn as sns\n",
    "\n",
    "import warnings\n",
    "warnings.filterwarnings('ignore')\n",
    "\n",
    "from IPython.display import display\n",
    "\n",
    "from sklearn.model_selection import train_test_split\n",
    "from sklearn.model_selection import KFold\n",
    "\n",
    "from sklearn.feature_extraction import DictVectorizer\n",
    "from sklearn.linear_model import LogisticRegression\n",
    "from sklearn.metrics import roc_curve, auc, roc_auc_score\n",
    "import pickle"
   ]
  },
  {
   "cell_type": "code",
   "execution_count": 2,
   "metadata": {},
   "outputs": [],
   "source": [
    "columns=('age', 'workclass', 'fnlwgt', 'education', 'education-num', 'marital-status', 'occupation',\n",
    "'relationship', 'race', 'sex', 'capital-gain', 'capital-loss', 'hours-per-week', 'native-country', 'income')\n",
    "\n",
    "df_full_train = pd.read_csv(\"adult.data\", names=columns)\n",
    "df_test = pd.read_csv(\"adult.test\", names=columns, skiprows=1)\n",
    "\n",
    "df_full_train.columns = df_full_train.columns.str.lower().str.replace('-', '_')\n",
    "df_test.columns = df_test.columns.str.lower().str.replace('-', '_')\n",
    "\n",
    "categorical_columns = list(df_full_train.dtypes[df_full_train.dtypes == 'object'].index)\n",
    "for col in categorical_columns:\n",
    "    df_full_train[col] = df_full_train[col].str.lower().str.strip().str.replace('-', '_')\n",
    "    df_test[col] = df_test[col].str.lower().str.strip().str.replace('-', '_')\n",
    "\n",
    "df_full_train = df_full_train.replace('?', np.nan)\n",
    "df_full_train = df_full_train.dropna()\n",
    "\n",
    "df_full_train['income>50k'] = (df_full_train['income'] == '>50k').astype(int)\n",
    "df_test['income>50k'] = (df_test['income'] == '>50k.').astype(int)"
   ]
  },
  {
   "cell_type": "code",
   "execution_count": 3,
   "metadata": {},
   "outputs": [],
   "source": [
    "categorical = ['workclass', 'education', 'marital_status', 'occupation',\n",
    "       'relationship', 'race', 'sex', 'native_country']\n",
    "numerical = ['age', 'capital_gain', 'capital_loss','hours_per_week']"
   ]
  },
  {
   "cell_type": "code",
   "execution_count": 4,
   "metadata": {},
   "outputs": [],
   "source": [
    "def train(df_train, y_train, C=1.0):\n",
    "    dicts = df_train[categorical + numerical].to_dict(orient='records')\n",
    "\n",
    "    dv = DictVectorizer(sparse=False)\n",
    "    X_train = dv.fit_transform(dicts)\n",
    "\n",
    "    model = LogisticRegression(C=C, max_iter=1000)\n",
    "    model.fit(X_train, y_train)\n",
    "\n",
    "    return dv, model"
   ]
  },
  {
   "cell_type": "code",
   "execution_count": 5,
   "metadata": {},
   "outputs": [],
   "source": [
    "def predict(df, dv, model):\n",
    "    dicts = df[categorical + numerical].to_dict(orient='records')\n",
    "\n",
    "    X=dv.transform(dicts)\n",
    "    y_pred = model.predict_proba(X)[:, 1]\n",
    "\n",
    "    return y_pred"
   ]
  },
  {
   "cell_type": "code",
   "execution_count": 6,
   "metadata": {},
   "outputs": [],
   "source": [
    "C = 1.0\n",
    "n_splits = 5"
   ]
  },
  {
   "cell_type": "code",
   "execution_count": 7,
   "metadata": {},
   "outputs": [
    {
     "name": "stdout",
     "output_type": "stream",
     "text": [
      "C=1.0 0.903 +- 0.001\n"
     ]
    }
   ],
   "source": [
    "Kfold = KFold(n_splits=n_splits, shuffle=True, random_state=1)\n",
    "\n",
    "scores = []\n",
    "\n",
    "for train_idx, test_idx in Kfold.split(df_full_train):\n",
    "    df_train = df_full_train.iloc[train_idx]\n",
    "    df_val = df_full_train.iloc[test_idx]\n",
    "\n",
    "    y_train = df_train['income>50k'].values\n",
    "    y_val = df_val['income>50k'].values\n",
    "\n",
    "    dv, model = train(df_train, y_train, C=C)\n",
    "    y_pred = predict(df_val, dv, model)\n",
    "\n",
    "    auc = roc_auc_score(y_val, y_pred)\n",
    "    scores.append(auc)\n",
    "    \n",
    "print('C=%s %.3f +- %.3f' % (C, np.mean(scores), np.std(scores)))"
   ]
  },
  {
   "cell_type": "code",
   "execution_count": 8,
   "metadata": {},
   "outputs": [
    {
     "data": {
      "text/plain": [
       "[0.9051609305404646,\n",
       " 0.9033004256530406,\n",
       " 0.9009145170552344,\n",
       " 0.9022591439696912,\n",
       " 0.9040335346808751]"
      ]
     },
     "execution_count": 8,
     "metadata": {},
     "output_type": "execute_result"
    }
   ],
   "source": [
    "scores"
   ]
  },
  {
   "cell_type": "code",
   "execution_count": 9,
   "metadata": {},
   "outputs": [
    {
     "data": {
      "text/plain": [
       "0.901816424084386"
      ]
     },
     "execution_count": 9,
     "metadata": {},
     "output_type": "execute_result"
    }
   ],
   "source": [
    "dv, model = train(df_full_train, df_full_train['income>50k'].values, C=1.0)\n",
    "y_pred = predict(df_test, dv, model)\n",
    "\n",
    "y_test = df_test['income>50k'].values\n",
    "auc = roc_auc_score(y_test, y_pred)\n",
    "auc"
   ]
  },
  {
   "cell_type": "markdown",
   "metadata": {},
   "source": [
    "### Save the model"
   ]
  },
  {
   "cell_type": "code",
   "execution_count": 10,
   "metadata": {},
   "outputs": [
    {
     "data": {
      "text/plain": [
       "'model_C=1.0.bin'"
      ]
     },
     "execution_count": 10,
     "metadata": {},
     "output_type": "execute_result"
    }
   ],
   "source": [
    "output_file = f'model_C={C}.bin'\n",
    "output_file"
   ]
  },
  {
   "cell_type": "code",
   "execution_count": 11,
   "metadata": {},
   "outputs": [],
   "source": [
    "with open(output_file, 'wb') as f_out:\n",
    "    pickle.dump((dv, model), f_out)"
   ]
  },
  {
   "cell_type": "markdown",
   "metadata": {},
   "source": [
    "### Load the model"
   ]
  },
  {
   "cell_type": "code",
   "execution_count": 12,
   "metadata": {},
   "outputs": [],
   "source": [
    "input_file = 'model_C=1.0.bin'"
   ]
  },
  {
   "cell_type": "code",
   "execution_count": 13,
   "metadata": {},
   "outputs": [],
   "source": [
    "with open(input_file, 'rb') as f_in:\n",
    "    (dv, model) = pickle.load(f_in)"
   ]
  },
  {
   "cell_type": "code",
   "execution_count": 14,
   "metadata": {},
   "outputs": [
    {
     "data": {
      "text/plain": [
       "(DictVectorizer(sparse=False), LogisticRegression(max_iter=1000))"
      ]
     },
     "execution_count": 14,
     "metadata": {},
     "output_type": "execute_result"
    }
   ],
   "source": [
    "dv, model"
   ]
  },
  {
   "cell_type": "code",
   "execution_count": 15,
   "metadata": {},
   "outputs": [
    {
     "data": {
      "text/plain": [
       "[{'workclass': 'private',\n",
       "  'education': '11th',\n",
       "  'marital_status': 'never_married',\n",
       "  'occupation': 'machine_op_inspct',\n",
       "  'relationship': 'own_child',\n",
       "  'race': 'black',\n",
       "  'sex': 'male',\n",
       "  'native_country': 'united_states',\n",
       "  'age': 25,\n",
       "  'capital_gain': 0,\n",
       "  'capital_loss': 0,\n",
       "  'hours_per_week': 40},\n",
       " {'workclass': 'private',\n",
       "  'education': 'hs_grad',\n",
       "  'marital_status': 'married_civ_spouse',\n",
       "  'occupation': 'farming_fishing',\n",
       "  'relationship': 'husband',\n",
       "  'race': 'white',\n",
       "  'sex': 'male',\n",
       "  'native_country': 'united_states',\n",
       "  'age': 38,\n",
       "  'capital_gain': 0,\n",
       "  'capital_loss': 0,\n",
       "  'hours_per_week': 50},\n",
       " {'workclass': 'local_gov',\n",
       "  'education': 'assoc_acdm',\n",
       "  'marital_status': 'married_civ_spouse',\n",
       "  'occupation': 'protective_serv',\n",
       "  'relationship': 'husband',\n",
       "  'race': 'white',\n",
       "  'sex': 'male',\n",
       "  'native_country': 'united_states',\n",
       "  'age': 28,\n",
       "  'capital_gain': 0,\n",
       "  'capital_loss': 0,\n",
       "  'hours_per_week': 40},\n",
       " {'workclass': 'private',\n",
       "  'education': 'some_college',\n",
       "  'marital_status': 'married_civ_spouse',\n",
       "  'occupation': 'machine_op_inspct',\n",
       "  'relationship': 'husband',\n",
       "  'race': 'black',\n",
       "  'sex': 'male',\n",
       "  'native_country': 'united_states',\n",
       "  'age': 44,\n",
       "  'capital_gain': 7688,\n",
       "  'capital_loss': 0,\n",
       "  'hours_per_week': 40},\n",
       " {'workclass': '?',\n",
       "  'education': 'some_college',\n",
       "  'marital_status': 'never_married',\n",
       "  'occupation': '?',\n",
       "  'relationship': 'own_child',\n",
       "  'race': 'white',\n",
       "  'sex': 'female',\n",
       "  'native_country': 'united_states',\n",
       "  'age': 18,\n",
       "  'capital_gain': 0,\n",
       "  'capital_loss': 0,\n",
       "  'hours_per_week': 30},\n",
       " {'workclass': 'private',\n",
       "  'education': '10th',\n",
       "  'marital_status': 'never_married',\n",
       "  'occupation': 'other_service',\n",
       "  'relationship': 'not_in_family',\n",
       "  'race': 'white',\n",
       "  'sex': 'male',\n",
       "  'native_country': 'united_states',\n",
       "  'age': 34,\n",
       "  'capital_gain': 0,\n",
       "  'capital_loss': 0,\n",
       "  'hours_per_week': 30},\n",
       " {'workclass': '?',\n",
       "  'education': 'hs_grad',\n",
       "  'marital_status': 'never_married',\n",
       "  'occupation': '?',\n",
       "  'relationship': 'unmarried',\n",
       "  'race': 'black',\n",
       "  'sex': 'male',\n",
       "  'native_country': 'united_states',\n",
       "  'age': 29,\n",
       "  'capital_gain': 0,\n",
       "  'capital_loss': 0,\n",
       "  'hours_per_week': 40},\n",
       " {'workclass': 'self_emp_not_inc',\n",
       "  'education': 'prof_school',\n",
       "  'marital_status': 'married_civ_spouse',\n",
       "  'occupation': 'prof_specialty',\n",
       "  'relationship': 'husband',\n",
       "  'race': 'white',\n",
       "  'sex': 'male',\n",
       "  'native_country': 'united_states',\n",
       "  'age': 63,\n",
       "  'capital_gain': 3103,\n",
       "  'capital_loss': 0,\n",
       "  'hours_per_week': 32},\n",
       " {'workclass': 'private',\n",
       "  'education': 'some_college',\n",
       "  'marital_status': 'never_married',\n",
       "  'occupation': 'other_service',\n",
       "  'relationship': 'unmarried',\n",
       "  'race': 'white',\n",
       "  'sex': 'female',\n",
       "  'native_country': 'united_states',\n",
       "  'age': 24,\n",
       "  'capital_gain': 0,\n",
       "  'capital_loss': 0,\n",
       "  'hours_per_week': 40},\n",
       " {'workclass': 'private',\n",
       "  'education': '7th_8th',\n",
       "  'marital_status': 'married_civ_spouse',\n",
       "  'occupation': 'craft_repair',\n",
       "  'relationship': 'husband',\n",
       "  'race': 'white',\n",
       "  'sex': 'male',\n",
       "  'native_country': 'united_states',\n",
       "  'age': 55,\n",
       "  'capital_gain': 0,\n",
       "  'capital_loss': 0,\n",
       "  'hours_per_week': 10}]"
      ]
     },
     "execution_count": 15,
     "metadata": {},
     "output_type": "execute_result"
    }
   ],
   "source": [
    "df_test[categorical + numerical][:10].to_dict(orient='records')"
   ]
  },
  {
   "cell_type": "code",
   "execution_count": 16,
   "metadata": {},
   "outputs": [],
   "source": [
    "person = {'workclass': 'private',\n",
    "  'education': '11th',\n",
    "  'marital_status': 'never_married',\n",
    "  'occupation': 'machine_op_inspct',\n",
    "  'relationship': 'own_child',\n",
    "  'race': 'black',\n",
    "  'sex': 'male',\n",
    "  'native_country': 'united_states',\n",
    "  'age': 25,\n",
    "  'capital_gain': 0,\n",
    "  'capital_loss': 0,\n",
    "  'hours_per_week': 40}"
   ]
  },
  {
   "cell_type": "code",
   "execution_count": 17,
   "metadata": {},
   "outputs": [],
   "source": [
    "X = dv.transform([person])"
   ]
  },
  {
   "cell_type": "code",
   "execution_count": 18,
   "metadata": {},
   "outputs": [
    {
     "data": {
      "text/plain": [
       "0.0026219965599794184"
      ]
     },
     "execution_count": 18,
     "metadata": {},
     "output_type": "execute_result"
    }
   ],
   "source": [
    "model.predict_proba(X)[0, 1]"
   ]
  }
 ],
 "metadata": {
  "kernelspec": {
   "display_name": "base",
   "language": "python",
   "name": "python3"
  },
  "language_info": {
   "codemirror_mode": {
    "name": "ipython",
    "version": 3
   },
   "file_extension": ".py",
   "mimetype": "text/x-python",
   "name": "python",
   "nbconvert_exporter": "python",
   "pygments_lexer": "ipython3",
   "version": "3.10.9"
  }
 },
 "nbformat": 4,
 "nbformat_minor": 2
}
